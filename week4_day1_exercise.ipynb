{
 "cells": [
  {
   "cell_type": "markdown",
   "id": "8cc389c6",
   "metadata": {},
   "source": [
    "### Regex project\n",
    "\n",
    "Use python to read the file regex_test.txt and print the last name on each line using regular expressions and groups (return None for names with no first and last name, or names that aren't properly capitalized)\n",
    "##### Hint: use with open() and readlines()"
   ]
  },
  {
   "cell_type": "code",
   "execution_count": 120,
   "id": "a2fb816d",
   "metadata": {},
   "outputs": [],
   "source": [
    "import re"
   ]
  },
  {
   "cell_type": "code",
   "execution_count": 121,
   "id": "e4200087",
   "metadata": {
    "scrolled": false
   },
   "outputs": [
    {
     "name": "stdout",
     "output_type": "stream",
     "text": [
      "['Abraham Lincoln\\n', 'Andrew P Garfield\\n', 'Connor Milliken\\n', 'Jordan Alexander Williams\\n', 'Madonna\\n', 'programming is cool\\n']\n",
      "Abraham Lincoln\n",
      "Andrew P Garfield\n",
      "Connor Milliken\n",
      "Jordan Alexander Williams\n",
      "Madonna\n",
      "programming is cool\n",
      "\n"
     ]
    }
   ],
   "source": [
    "with open('regex_test.txt') as file:\n",
    "    data_list = file.readlines()\n",
    "    print(data_list)\n",
    "    \n",
    "with open('regex_test.txt') as file:\n",
    "    data_string = file.read()\n",
    "    print(data_string)\n",
    "        "
   ]
  },
  {
   "cell_type": "code",
   "execution_count": 122,
   "id": "3d2b586d",
   "metadata": {
    "scrolled": true
   },
   "outputs": [
    {
     "data": {
      "text/plain": [
       "['Abraham Lincoln\\n',\n",
       " 'Andrew P Garfield\\n',\n",
       " 'Connor Milliken\\n',\n",
       " 'Jordan Alexander Williams\\n',\n",
       " 'Madonna\\n',\n",
       " 'programming is cool\\n']"
      ]
     },
     "execution_count": 122,
     "metadata": {},
     "output_type": "execute_result"
    }
   ],
   "source": [
    "data_list"
   ]
  },
  {
   "cell_type": "code",
   "execution_count": 123,
   "id": "a889bb60",
   "metadata": {},
   "outputs": [
    {
     "data": {
      "text/plain": [
       "'Abraham Lincoln\\nAndrew P Garfield\\nConnor Milliken\\nJordan Alexander Williams\\nMadonna\\nprogramming is cool\\n'"
      ]
     },
     "execution_count": 123,
     "metadata": {},
     "output_type": "execute_result"
    }
   ],
   "source": [
    "data_string"
   ]
  },
  {
   "cell_type": "code",
   "execution_count": 124,
   "id": "2e9ae688",
   "metadata": {},
   "outputs": [],
   "source": [
    "# Abraham Lincoln                    # has first and last name\n",
    "# Andrew P Garfield                  # has first name, middle name, and last name * not all have middle name\n",
    "# Connor Milliken                    # has first and last name\n",
    "# Jordan Alexander Williams          # has first name, middle name, and last name * not all have middle name\n",
    "# Madonna                            # has first name only * this should return None\n",
    "# programming is cool                # this is not a name + it is not properly capitalized * this should return None"
   ]
  },
  {
   "cell_type": "code",
   "execution_count": 128,
   "id": "525c2558",
   "metadata": {},
   "outputs": [],
   "source": [
    "last_name_pattern = re.compile('(?P<first>^[A-Z][a-z]+) (?P<middle>[A-Z][a-z]* )?(?P<last>[A-Z][a-z]+)$', re.M)"
   ]
  },
  {
   "cell_type": "code",
   "execution_count": 129,
   "id": "f1b5ec64",
   "metadata": {
    "scrolled": true
   },
   "outputs": [
    {
     "name": "stdout",
     "output_type": "stream",
     "text": [
      "Lincoln\n",
      "Garfield\n",
      "Milliken\n",
      "Williams\n"
     ]
    }
   ],
   "source": [
    "for match in last_name_pattern.finditer(data_string):\n",
    "    print(match.group('last'))"
   ]
  },
  {
   "cell_type": "code",
   "execution_count": 131,
   "id": "d5a4b91d",
   "metadata": {
    "scrolled": true
   },
   "outputs": [
    {
     "name": "stdout",
     "output_type": "stream",
     "text": [
      "Lincoln\n",
      "Garfield\n",
      "Milliken\n",
      "Williams\n",
      "None\n",
      "None\n"
     ]
    }
   ],
   "source": [
    "for name in data_list:\n",
    "    match = last_name_pattern.match(name)\n",
    "    if match:\n",
    "        print(match.group('last'))\n",
    "    else:\n",
    "        print(None)"
   ]
  },
  {
   "cell_type": "code",
   "execution_count": 133,
   "id": "9f4dc9ab",
   "metadata": {},
   "outputs": [
    {
     "name": "stdout",
     "output_type": "stream",
     "text": [
      "Lincoln\n",
      "Garfield\n",
      "Milliken\n",
      "Williams\n",
      "None\n",
      "None\n"
     ]
    }
   ],
   "source": [
    "def is_valid(name):\n",
    "    match = last_name_pattern.match(name)\n",
    "    if match:\n",
    "        return match.group('last')\n",
    "    \n",
    "for name in data_list:\n",
    "    print(is_valid(name))"
   ]
  },
  {
   "cell_type": "code",
   "execution_count": null,
   "id": "9036852f",
   "metadata": {},
   "outputs": [],
   "source": [
    "\"\"\"\n",
    "Print the last name on each line\n",
    "\n",
    "return None for names with no first and last name, or names that aren't properly capitalized\n",
    "\n",
    "Expected Output:\n",
    "\n",
    "Lincoln\n",
    "Garfield\n",
    "Milliken\n",
    "Williams\n",
    "None\n",
    "None\n",
    "\"\"\""
   ]
  }
 ],
 "metadata": {
  "kernelspec": {
   "display_name": "Python 3 (ipykernel)",
   "language": "python",
   "name": "python3"
  },
  "language_info": {
   "codemirror_mode": {
    "name": "ipython",
    "version": 3
   },
   "file_extension": ".py",
   "mimetype": "text/x-python",
   "name": "python",
   "nbconvert_exporter": "python",
   "pygments_lexer": "ipython3",
   "version": "3.9.12"
  }
 },
 "nbformat": 4,
 "nbformat_minor": 5
}
